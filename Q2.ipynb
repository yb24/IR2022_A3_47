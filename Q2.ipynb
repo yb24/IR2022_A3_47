{
 "cells": [
  {
   "cell_type": "markdown",
   "id": "a9b1f6fe",
   "metadata": {},
   "source": [
    "# Import Statements"
   ]
  },
  {
   "cell_type": "code",
   "execution_count": 1,
   "id": "f48e4369",
   "metadata": {},
   "outputs": [],
   "source": [
    "import networkx as nx"
   ]
  },
  {
   "cell_type": "markdown",
   "id": "bbd85c4f",
   "metadata": {},
   "source": [
    "# Helper Functions"
   ]
  },
  {
   "cell_type": "code",
   "execution_count": 2,
   "id": "1fc4ca16",
   "metadata": {},
   "outputs": [],
   "source": [
    "def make_graph(path_of_file):\n",
    "    '''\n",
    "    Parameters:\n",
    "        path_of_file: type(string)\n",
    "    \n",
    "    Returns: a networkx graph, the type of which is specified by parameter create_using\n",
    "    '''\n",
    "    \n",
    "    return nx.read_edgelist(path_of_file, create_using = nx.DiGraph)"
   ]
  },
  {
   "cell_type": "code",
   "execution_count": 3,
   "id": "ab953c06",
   "metadata": {},
   "outputs": [],
   "source": [
    "def get_pagerank(Graph, damping_parameter, max_iter):\n",
    "    '''\n",
    "    Parameters:\n",
    "        Graph: type(networkx graph)\n",
    "        damping_parameter: type(float)\n",
    "        max_iter: type(int)\n",
    "    \n",
    "    Returns: PageRank score of nodes in Graph, alpha specifies the damping parameter, max_iter specifies the maximum iterations in power method eigenvalue solver\n",
    "    '''\n",
    "    \n",
    "    return nx.pagerank(Graph, alpha=damping_parameter, max_iter=max_iter)"
   ]
  },
  {
   "cell_type": "code",
   "execution_count": 4,
   "id": "76778137",
   "metadata": {},
   "outputs": [],
   "source": [
    "def get_hubs_authority(Graph, max_iter, isNormalized):\n",
    "    '''\n",
    "    Parameters:\n",
    "        Graph: type(networkx graph)\n",
    "        max_iter: type(int)\n",
    "        isNormalized: type(bool)\n",
    "    \n",
    "    Returns: Hubs and Authority score of nodes in Graph, max_iter specifies maximum number of iterations in power method, isNormalized specifies whether to normalize scores by sum of all scores\n",
    "    '''\n",
    "    \n",
    "    hubs, authority = nx.hits(Graph, max_iter=max_iter, normalized=isNormalized)\n",
    "    \n",
    "    return hubs, authority"
   ]
  },
  {
   "cell_type": "code",
   "execution_count": 5,
   "id": "5f0a98c4",
   "metadata": {},
   "outputs": [],
   "source": [
    "def get_sorted_dict(data, isReverse, topK):\n",
    "    '''\n",
    "    Parameters:\n",
    "        data: type(dict)\n",
    "        isReverse: type(bool)\n",
    "        topK: type(int)\n",
    "    \n",
    "    Returns: sorted dictionary, order and number of elements specified by isReverse and topK respectively\n",
    "    '''\n",
    "    if topK<0:\n",
    "        return dict()\n",
    "    elif topK>len(data):\n",
    "        return dict(sorted(data.items(), key = lambda x:x[1], reverse=isReverse))\n",
    "    return dict(sorted(data.items(), key = lambda x:x[1], reverse=isReverse)[:topK])"
   ]
  },
  {
   "cell_type": "code",
   "execution_count": 6,
   "id": "9fbf731e",
   "metadata": {},
   "outputs": [],
   "source": [
    "def print_dict(data):\n",
    "    '''\n",
    "    Parameters:\n",
    "        data: type(dict)\n",
    "    \n",
    "    Returns: None\n",
    "    '''\n",
    "    for key,value in data.items():\n",
    "        print('{}  {}'.format(key, value))"
   ]
  },
  {
   "cell_type": "markdown",
   "id": "2a48c328",
   "metadata": {},
   "source": [
    "# Main"
   ]
  },
  {
   "cell_type": "code",
   "execution_count": 7,
   "id": "df00ba06",
   "metadata": {},
   "outputs": [],
   "source": [
    "def main():\n",
    "    # Make Directed Graph by reading file\n",
    "    Graph = make_graph('Dataset/Wiki-Vote.txt')\n",
    "    \n",
    "    # Compute PageRank score for each node in Graph\n",
    "    pagerank = get_pagerank(Graph, 0.85, 100)\n",
    "    \n",
    "    # Display top 10 nodes based on PageRank score\n",
    "    pagerank_reverse_sorted = get_sorted_dict(pagerank, True, 10)\n",
    "    print('\\nTop 10 nodes based on PageRank score')\n",
    "    print_dict(pagerank_reverse_sorted)\n",
    "    \n",
    "    # Compute Hubs and Authority score for each node in Graph\n",
    "    hubs, authority = get_hubs_authority(Graph, 100, True)\n",
    "    \n",
    "    # Display top 10 nodes based on Hubs score\n",
    "    hubs_reverse_sorted = get_sorted_dict(hubs, True, 10)\n",
    "    print('\\nTop 10 nodes based on Hubs score')\n",
    "    print_dict(hubs_reverse_sorted)\n",
    "    \n",
    "    # Display top 10 nodes based on Authority score\n",
    "    authority_reverse_sorted = get_sorted_dict(authority, True, 10)\n",
    "    print('\\nTop 10 nodes based on Authority score')\n",
    "    print_dict(authority_reverse_sorted)"
   ]
  },
  {
   "cell_type": "code",
   "execution_count": 8,
   "id": "226180f8",
   "metadata": {},
   "outputs": [
    {
     "name": "stdout",
     "output_type": "stream",
     "text": [
      "\n",
      "Top 10 nodes based on PageRank score\n",
      "4037  0.004612715891167545\n",
      "15  0.0036812207295292714\n",
      "6634  0.003524813657640258\n",
      "2625  0.0032863743692308997\n",
      "2398  0.002605333171725021\n",
      "2470  0.0025301053283849502\n",
      "2237  0.002504703800483991\n",
      "4191  0.0022662633042363433\n",
      "7553  0.0021701850491959583\n",
      "5254  0.0021500675059293226\n",
      "\n",
      "Top 10 nodes based on Hubs score\n",
      "2565  0.00794049270814314\n",
      "766  0.007574335297501244\n",
      "2688  0.0064402489910298615\n",
      "457  0.006416870490261074\n",
      "1166  0.0060105679024112044\n",
      "1549  0.005720754058269241\n",
      "11  0.004921182063808108\n",
      "1151  0.00457204070175641\n",
      "1374  0.004467888792711109\n",
      "1133  0.003918881732057349\n",
      "\n",
      "Top 10 nodes based on Authority score\n",
      "2398  0.0025801471780088747\n",
      "4037  0.0025732411242297914\n",
      "3352  0.0023284150914976804\n",
      "1549  0.0023037314804571787\n",
      "762  0.002255874856287139\n",
      "3089  0.0022534066884511636\n",
      "1297  0.002250144636662723\n",
      "2565  0.002223564103953611\n",
      "15  0.0022015434925655806\n",
      "2625  0.0021978968034030736\n"
     ]
    }
   ],
   "source": [
    "if __name__ == '__main__':\n",
    "    main()"
   ]
  }
 ],
 "metadata": {
  "kernelspec": {
   "display_name": "Python 3 (ipykernel)",
   "language": "python",
   "name": "python3"
  },
  "language_info": {
   "codemirror_mode": {
    "name": "ipython",
    "version": 3
   },
   "file_extension": ".py",
   "mimetype": "text/x-python",
   "name": "python",
   "nbconvert_exporter": "python",
   "pygments_lexer": "ipython3",
   "version": "3.7.4"
  }
 },
 "nbformat": 4,
 "nbformat_minor": 5
}
