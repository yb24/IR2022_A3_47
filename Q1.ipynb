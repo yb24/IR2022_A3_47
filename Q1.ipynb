{
 "cells": [
  {
   "cell_type": "markdown",
   "id": "9e724452",
   "metadata": {},
   "source": [
    "# Import Statements"
   ]
  },
  {
   "cell_type": "code",
   "execution_count": 1,
   "id": "7e1910b4",
   "metadata": {},
   "outputs": [],
   "source": [
    "import pandas as pd\n",
    "import numpy as np\n",
    "import string\n",
    "import os\n",
    "import pickle\n",
    "import random\n",
    "import matplotlib.pyplot as plt\n",
    "import math\n",
    "import operator\n",
    "from tqdm import tqdm"
   ]
  },
  {
   "cell_type": "markdown",
   "id": "4ee54a4e",
   "metadata": {},
   "source": [
    "# Read From File"
   ]
  },
  {
   "cell_type": "code",
   "execution_count": 2,
   "id": "4a33eee3",
   "metadata": {},
   "outputs": [],
   "source": [
    "def read_from_file(file_path):\n",
    "    '''\n",
    "    Parameters:\n",
    "        file_path: type(string)\n",
    "    \n",
    "    Returns: Data read from file\n",
    "    '''\n",
    "    file = open(file_path, 'r', encoding='utf-8', errors='ignore')\n",
    "    file_data = file.read()\n",
    "    file.close()\n",
    "    \n",
    "    return file_data"
   ]
  },
  {
   "cell_type": "markdown",
   "id": "56de0ecd",
   "metadata": {},
   "source": [
    "# Helper Functions"
   ]
  },
  {
   "cell_type": "code",
   "execution_count": 3,
   "id": "10f6447a",
   "metadata": {},
   "outputs": [],
   "source": [
    "def plot_graph(data, label_x, label_y):\n",
    "    '''\n",
    "    Parameters:\n",
    "        data: type(list)\n",
    "        label_x: type(string)\n",
    "        label_y: type(string)\n",
    "    '''\n",
    "    distribution = {}\n",
    "    for data_point in data:\n",
    "        if(data_point in distribution.keys()):\n",
    "            distribution[data_point]+=1\n",
    "        else:\n",
    "            distribution[data_point]=1\n",
    "    \n",
    "    x = sorted(distribution.keys())\n",
    "    y = [distribution[val]/len(data) for val in x]\n",
    "    \n",
    "    plt.xlabel(label_x)\n",
    "    plt.ylabel(label_y)\n",
    "    plt.plot(x,y)\n",
    "    plt.show()\n",
    "    \n",
    "    return x,y"
   ]
  },
  {
   "cell_type": "code",
   "execution_count": 4,
   "id": "01577fe3",
   "metadata": {},
   "outputs": [],
   "source": [
    "def create_graph(graph_data):\n",
    "    '''\n",
    "    Parameters:\n",
    "        file_data: type(string)\n",
    "        num_of_nodes: type(int)\n",
    "    \n",
    "    Returns: adjacency matrix, edge list, number of edges, in-degree list and out-degree list of the graph data present in file_data\n",
    "    '''\n",
    "    node_dict = {}\n",
    "    reverse_node_dict = {}\n",
    "    node_no = 0\n",
    "    lines = graph_data.splitlines()\n",
    "    \n",
    "    num_of_nodes = int(lines[2].split()[2])\n",
    "    num_of_edges = int(lines[2].split()[4])\n",
    "    \n",
    "    for line_no in range(4,len(lines)):\n",
    "        node_pair = lines[line_no].split()\n",
    "        u,v = int(node_pair[0]),int(node_pair[1])\n",
    "        if(u not in node_dict.keys()):\n",
    "            node_dict[u] = node_no\n",
    "            reverse_node_dict[node_no] = u\n",
    "            node_no+=1\n",
    "        if(v not in node_dict.keys()):\n",
    "            node_dict[v] = node_no\n",
    "            reverse_node_dict[node_no] = v\n",
    "            node_no+=1\n",
    "    \n",
    "    adjacency_matrix = np.zeros((num_of_nodes,num_of_nodes))\n",
    "    edge_list = []\n",
    "    in_degree_list = np.zeros(num_of_nodes, dtype=np.int64)\n",
    "    out_degree_list = np.zeros(num_of_nodes, dtype=np.int64)\n",
    "    \n",
    "    for i in range(num_of_nodes):\n",
    "        edge_list.append([])\n",
    "    \n",
    "    for line_no in range(4,len(lines)):\n",
    "        node_pair = lines[line_no].split()\n",
    "        u, v = node_dict[int(node_pair[0])], node_dict[int(node_pair[1])]\n",
    "        adjacency_matrix[u][v]+=1\n",
    "        edge_list[u].append(v)\n",
    "        in_degree_list[v]+=1\n",
    "        out_degree_list[u]+=1\n",
    "    \n",
    "    return adjacency_matrix, edge_list, num_of_nodes, num_of_edges, in_degree_list, out_degree_list, node_dict, reverse_node_dict"
   ]
  },
  {
   "cell_type": "code",
   "execution_count": 5,
   "id": "fa5185d7",
   "metadata": {},
   "outputs": [],
   "source": [
    "def get_clustering_coefficient_list(adjacency_matrix, edge_list, num_of_nodes):\n",
    "    '''\n",
    "    Parameters:\n",
    "        adjacency_matrix: type(ndarray)\n",
    "        edge_list: type(list)\n",
    "        num_of_nodes: type(int)\n",
    "    \n",
    "    Returns: List of Clustering Coefficient for each Node\n",
    "    '''\n",
    "    undirected_adj_matrix = np.zeros((num_of_nodes, num_of_nodes))\n",
    "    undirected_adj_list = [[] for i in range(num_of_nodes)]\n",
    "    \n",
    "    for node_i in tqdm(range(num_of_nodes)):\n",
    "        if(adjacency_matrix[node_i][node_i]!=0):\n",
    "            undirected_adj_matrix[node_i][node_i] = 1\n",
    "        for node_j in range(node_i+1,num_of_nodes):\n",
    "            if(adjacency_matrix[node_i][node_j]!=0 or adjacency_matrix[node_j][node_i]!=0):\n",
    "                undirected_adj_matrix[node_i][node_j] += 1\n",
    "                undirected_adj_matrix[node_j][node_i] += 1\n",
    "                undirected_adj_list[node_i].append(node_j)\n",
    "                undirected_adj_list[node_j].append(node_i)\n",
    "\n",
    "    clustering_coefficient_list = []\n",
    "    for node_v in tqdm(range(num_of_nodes)):\n",
    "        Kv = len(undirected_adj_list[node_v])\n",
    "        if Kv == 0 or Kv == 1:\n",
    "            clustering_coefficient_list.append(0)\n",
    "        else:\n",
    "            Nv = 0\n",
    "            for i in range(Kv):\n",
    "                for j in range(i+1, Kv):\n",
    "                    neighbour_1 = undirected_adj_list[node_v][i]\n",
    "                    neighbour_2 = undirected_adj_list[node_v][j]\n",
    "                    if undirected_adj_matrix[neighbour_1][neighbour_2]!=0:\n",
    "                        Nv += 1\n",
    "            clustering_coefficient_list.append((2*Nv)/(Kv*(Kv-1)))\n",
    "    return clustering_coefficient_list"
   ]
  },
  {
   "cell_type": "markdown",
   "id": "0553fc15",
   "metadata": {},
   "source": [
    "# Main"
   ]
  },
  {
   "cell_type": "code",
   "execution_count": 6,
   "id": "7fdc0c96",
   "metadata": {},
   "outputs": [],
   "source": [
    "def main():\n",
    "    # Read graph data\n",
    "    graph_data = read_from_file('Dataset/Wiki-Vote.txt')\n",
    "    adjacency_matrix, edge_list, num_of_nodes, num_of_edges, in_degree_list, out_degree_list, node_dict, reverse_node_dict = create_graph(graph_data)\n",
    "    \n",
    "    # Number of Nodes\n",
    "    print('Number of Nodes: {}'.format(num_of_nodes))\n",
    "    \n",
    "    # Number of Edges\n",
    "    print('Number of Edges: {}'.format(num_of_edges))\n",
    "    \n",
    "    # Average In-Degree\n",
    "    avg_in_degree = np.sum(in_degree_list)/num_of_nodes\n",
    "    print('Average In-Degree: {}'.format(avg_in_degree))\n",
    "    \n",
    "    # Average Out-Degree\n",
    "    avg_out_degree = np.sum(out_degree_list)/num_of_nodes\n",
    "    print('Average Out-Degree: {}'.format(avg_out_degree))\n",
    "    \n",
    "    # Node(s) with Max In-degree\n",
    "    nodes_with_max_in_degree = []\n",
    "    max_in_degree = np.amax(in_degree_list)\n",
    "    for node in range(num_of_nodes):\n",
    "        if(in_degree_list[node]==max_in_degree):\n",
    "            nodes_with_max_in_degree.append(node)\n",
    "    for node in nodes_with_max_in_degree:\n",
    "        print('Node with Max In-Degree is: {} with In-Degree: {}'.format(reverse_node_dict[node], in_degree_list[node]))\n",
    "    \n",
    "    # Node(s) with Max Out-degree\n",
    "    nodes_with_max_out_degree = []\n",
    "    max_out_degree = np.amax(out_degree_list)\n",
    "    for node in range(num_of_nodes):\n",
    "        if(out_degree_list[node]==max_out_degree):\n",
    "            nodes_with_max_out_degree.append(node)\n",
    "    for node in nodes_with_max_out_degree:\n",
    "        print('Node with Max Out-Degree is: {} with Out-Degree: {}'.format(reverse_node_dict[node], out_degree_list[node]))\n",
    "    \n",
    "    # Density of the network\n",
    "    num_of_possible_edges = num_of_nodes*(num_of_nodes-1)\n",
    "    print('Density of the network: {}'.format(num_of_edges/num_of_possible_edges))\n",
    "    \n",
    "    # In-Degree Distribution\n",
    "    plot_graph(in_degree_list, 'In-Degree', 'In-Degree Distribution')\n",
    "    \n",
    "    # Out-Degree Distribution\n",
    "    plot_graph(out_degree_list, 'Out-Degree', 'Out-Degree Distribution')\n",
    "    \n",
    "    # Clustering Coefficient Distribution\n",
    "    clustering_coefficient_list = get_clustering_coefficient_list(adjacency_matrix, edge_list, num_of_nodes)\n",
    "    #clustering_coefficient_list = fun(adjacency_matrix, edge_list, num_of_nodes)\n",
    "    #for x in clustering_coefficient_list:\n",
    "    #    print(x)\n",
    "    plot_graph(clustering_coefficient_list, 'Local Clustering Coefficient', 'Local Clustering Coefficient Distribution')"
   ]
  },
  {
   "cell_type": "code",
   "execution_count": 7,
   "id": "c911baf3",
   "metadata": {},
   "outputs": [
    {
     "name": "stdout",
     "output_type": "stream",
     "text": [
      "Number of Nodes: 7115\n",
      "Number of Edges: 103689\n",
      "Average In-Degree: 14.573295853829936\n",
      "Average Out-Degree: 14.573295853829936\n",
      "Node with Max In-Degree is: 4037 with In-Degree: 457\n",
      "Node with Max Out-Degree is: 2565 with Out-Degree: 893\n",
      "Density of the network: 0.0020485375110809584\n"
     ]
    },
    {
     "data": {
      "image/png": "[encoded data removed]",
      "text/plain": [
       "<Figure size 432x288 with 1 Axes>"
      ]
     },
     "metadata": {
      "needs_background": "light"
     },
     "output_type": "display_data"
    },
    {
     "data": {
      "image/png": "[encoded data removed]",
      "text/plain": [
       "<Figure size 432x288 with 1 Axes>"
      ]
     },
     "metadata": {
      "needs_background": "light"
     },
     "output_type": "display_data"
    },
    {
     "name": "stderr",
     "output_type": "stream",
     "text": [
      "100%|█████████████████████████████████████████████████████████████████████████████| 7115/7115 [00:22<00:00, 321.98it/s]\n",
      "100%|█████████████████████████████████████████████████████████████████████████████| 7115/7115 [00:08<00:00, 862.14it/s]\n"
     ]
    },
    {
     "data": {
      "image/png": "[encoded data removed]",
      "text/plain": [
       "<Figure size 432x288 with 1 Axes>"
      ]
     },
     "metadata": {
      "needs_background": "light"
     },
     "output_type": "display_data"
    }
   ],
   "source": [
    "if __name__ == \"__main__\":\n",
    "    main()"
   ]
  }
 ],
 "metadata": {
  "kernelspec": {
   "display_name": "Python 3 (ipykernel)",
   "language": "python",
   "name": "python3"
  },
  "language_info": {
   "codemirror_mode": {
    "name": "ipython",
    "version": 3
   },
   "file_extension": ".py",
   "mimetype": "text/x-python",
   "name": "python",
   "nbconvert_exporter": "python",
   "pygments_lexer": "ipython3",
   "version": "3.7.4"
  }
 },
 "nbformat": 4,
 "nbformat_minor": 5
}
